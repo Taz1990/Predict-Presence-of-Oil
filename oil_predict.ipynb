{
 "cells": [
  {
   "cell_type": "code",
   "execution_count": 3,
   "id": "95d15019",
   "metadata": {},
   "outputs": [],
   "source": [
    "import numpy as np\n",
    "import pandas as pd\n",
    "import seaborn as sns\n",
    "from sklearn.ensemble import RandomForestClassifier\n",
    "from sklearn.preprocessing import LabelEncoder\n",
    "from sklearn.metrics import accuracy_score, classification_report\n",
    "import matplotlib.pyplot as plt"
   ]
  },
  {
   "cell_type": "code",
   "execution_count": 5,
   "id": "bd8ffeb4",
   "metadata": {},
   "outputs": [
    {
     "data": {
      "text/html": [
       "<div>\n",
       "<style scoped>\n",
       "    .dataframe tbody tr th:only-of-type {\n",
       "        vertical-align: middle;\n",
       "    }\n",
       "\n",
       "    .dataframe tbody tr th {\n",
       "        vertical-align: top;\n",
       "    }\n",
       "\n",
       "    .dataframe thead th {\n",
       "        text-align: right;\n",
       "    }\n",
       "</style>\n",
       "<table border=\"1\" class=\"dataframe\">\n",
       "  <thead>\n",
       "    <tr style=\"text-align: right;\">\n",
       "      <th></th>\n",
       "      <th>Rock_Type</th>\n",
       "      <th>Porosity</th>\n",
       "      <th>Permeability</th>\n",
       "      <th>Trap_Type</th>\n",
       "      <th>Seismic_Score</th>\n",
       "      <th>Proximity_to_Oil_Field</th>\n",
       "      <th>Estimated_Reservoir_Depth</th>\n",
       "      <th>Oil_Presence</th>\n",
       "    </tr>\n",
       "  </thead>\n",
       "  <tbody>\n",
       "    <tr>\n",
       "      <th>0</th>\n",
       "      <td>Shale</td>\n",
       "      <td>0.438848</td>\n",
       "      <td>903.714252</td>\n",
       "      <td>NaN</td>\n",
       "      <td>0.181881</td>\n",
       "      <td>4.226811</td>\n",
       "      <td>1547</td>\n",
       "      <td>0</td>\n",
       "    </tr>\n",
       "    <tr>\n",
       "      <th>1</th>\n",
       "      <td>Sandstone</td>\n",
       "      <td>6.217269</td>\n",
       "      <td>111.883819</td>\n",
       "      <td>Fault</td>\n",
       "      <td>0.169586</td>\n",
       "      <td>0.583624</td>\n",
       "      <td>4878</td>\n",
       "      <td>0</td>\n",
       "    </tr>\n",
       "    <tr>\n",
       "      <th>2</th>\n",
       "      <td>Shale</td>\n",
       "      <td>21.397076</td>\n",
       "      <td>177.944336</td>\n",
       "      <td>NaN</td>\n",
       "      <td>0.862800</td>\n",
       "      <td>0.180588</td>\n",
       "      <td>1815</td>\n",
       "      <td>0</td>\n",
       "    </tr>\n",
       "    <tr>\n",
       "      <th>3</th>\n",
       "      <td>Shale</td>\n",
       "      <td>11.598605</td>\n",
       "      <td>429.236160</td>\n",
       "      <td>Dome</td>\n",
       "      <td>0.498148</td>\n",
       "      <td>3.042691</td>\n",
       "      <td>1886</td>\n",
       "      <td>0</td>\n",
       "    </tr>\n",
       "    <tr>\n",
       "      <th>4</th>\n",
       "      <td>Sandstone</td>\n",
       "      <td>19.874518</td>\n",
       "      <td>127.586022</td>\n",
       "      <td>Anticline</td>\n",
       "      <td>0.245937</td>\n",
       "      <td>1.708715</td>\n",
       "      <td>4420</td>\n",
       "      <td>0</td>\n",
       "    </tr>\n",
       "  </tbody>\n",
       "</table>\n",
       "</div>"
      ],
      "text/plain": [
       "   Rock_Type   Porosity  Permeability  Trap_Type  Seismic_Score  \\\n",
       "0      Shale   0.438848    903.714252        NaN       0.181881   \n",
       "1  Sandstone   6.217269    111.883819      Fault       0.169586   \n",
       "2      Shale  21.397076    177.944336        NaN       0.862800   \n",
       "3      Shale  11.598605    429.236160       Dome       0.498148   \n",
       "4  Sandstone  19.874518    127.586022  Anticline       0.245937   \n",
       "\n",
       "   Proximity_to_Oil_Field  Estimated_Reservoir_Depth  Oil_Presence  \n",
       "0                4.226811                       1547             0  \n",
       "1                0.583624                       4878             0  \n",
       "2                0.180588                       1815             0  \n",
       "3                3.042691                       1886             0  \n",
       "4                1.708715                       4420             0  "
      ]
     },
     "execution_count": 5,
     "metadata": {},
     "output_type": "execute_result"
    }
   ],
   "source": [
    "oil_data= pd.read_csv('synthetic_oil_data.csv')\n",
    "oil_data.head(5)\n",
    "#print(oil_data.shape)"
   ]
  },
  {
   "cell_type": "code",
   "execution_count": 6,
   "id": "bf66381a",
   "metadata": {},
   "outputs": [
    {
     "data": {
      "text/plain": [
       "Rock_Type                       0\n",
       "Porosity                        0\n",
       "Permeability                    0\n",
       "Trap_Type                    1253\n",
       "Seismic_Score                   0\n",
       "Proximity_to_Oil_Field          0\n",
       "Estimated_Reservoir_Depth       0\n",
       "Oil_Presence                    0\n",
       "dtype: int64"
      ]
     },
     "execution_count": 6,
     "metadata": {},
     "output_type": "execute_result"
    }
   ],
   "source": [
    "oil_data.isnull().sum()"
   ]
  },
  {
   "cell_type": "code",
   "execution_count": 7,
   "id": "c6939b93",
   "metadata": {},
   "outputs": [
    {
     "name": "stdout",
     "output_type": "stream",
     "text": [
      "<class 'pandas.core.frame.DataFrame'>\n",
      "RangeIndex: 5000 entries, 0 to 4999\n",
      "Data columns (total 8 columns):\n",
      " #   Column                     Non-Null Count  Dtype  \n",
      "---  ------                     --------------  -----  \n",
      " 0   Rock_Type                  5000 non-null   object \n",
      " 1   Porosity                   5000 non-null   float64\n",
      " 2   Permeability               5000 non-null   float64\n",
      " 3   Trap_Type                  3747 non-null   object \n",
      " 4   Seismic_Score              5000 non-null   float64\n",
      " 5   Proximity_to_Oil_Field     5000 non-null   float64\n",
      " 6   Estimated_Reservoir_Depth  5000 non-null   int64  \n",
      " 7   Oil_Presence               5000 non-null   int64  \n",
      "dtypes: float64(4), int64(2), object(2)\n",
      "memory usage: 312.6+ KB\n"
     ]
    }
   ],
   "source": [
    "oil_data.info()"
   ]
  },
  {
   "cell_type": "markdown",
   "id": "1205844f",
   "metadata": {},
   "source": [
    "##### 🔥Filling the null value with 'Unknown', so the model consider 'unknown' as a specific value."
   ]
  },
  {
   "cell_type": "code",
   "execution_count": 8,
   "id": "3f388679",
   "metadata": {},
   "outputs": [
    {
     "name": "stdout",
     "output_type": "stream",
     "text": [
      "<class 'pandas.core.frame.DataFrame'>\n",
      "RangeIndex: 5000 entries, 0 to 4999\n",
      "Data columns (total 8 columns):\n",
      " #   Column                     Non-Null Count  Dtype  \n",
      "---  ------                     --------------  -----  \n",
      " 0   Rock_Type                  5000 non-null   object \n",
      " 1   Porosity                   5000 non-null   float64\n",
      " 2   Permeability               5000 non-null   float64\n",
      " 3   Trap_Type                  5000 non-null   object \n",
      " 4   Seismic_Score              5000 non-null   float64\n",
      " 5   Proximity_to_Oil_Field     5000 non-null   float64\n",
      " 6   Estimated_Reservoir_Depth  5000 non-null   int64  \n",
      " 7   Oil_Presence               5000 non-null   int64  \n",
      "dtypes: float64(4), int64(2), object(2)\n",
      "memory usage: 312.6+ KB\n"
     ]
    }
   ],
   "source": [
    "oil_data['Trap_Type']= oil_data['Trap_Type'].fillna('Unknown')\n",
    "oil_data.info()"
   ]
  },
  {
   "cell_type": "code",
   "execution_count": 9,
   "id": "2438b99e",
   "metadata": {},
   "outputs": [
    {
     "data": {
      "text/plain": [
       "array([[<Axes: title={'center': 'Porosity'}>,\n",
       "        <Axes: title={'center': 'Permeability'}>],\n",
       "       [<Axes: title={'center': 'Seismic_Score'}>,\n",
       "        <Axes: title={'center': 'Proximity_to_Oil_Field'}>],\n",
       "       [<Axes: title={'center': 'Estimated_Reservoir_Depth'}>,\n",
       "        <Axes: title={'center': 'Oil_Presence'}>]], dtype=object)"
      ]
     },
     "execution_count": 9,
     "metadata": {},
     "output_type": "execute_result"
    },
    {
     "data": {
      "image/png": "[encoded data removed]",
      "text/plain": [
       "<Figure size 2000x1500 with 6 Axes>"
      ]
     },
     "metadata": {},
     "output_type": "display_data"
    }
   ],
   "source": [
    "oil_data.hist(figsize=(20,15),color='blue', bins=100, alpha=1)"
   ]
  },
  {
   "cell_type": "markdown",
   "id": "9942c847",
   "metadata": {},
   "source": [
    "#### 😒 Our target is to predict Oil_presence--- but histogram shows a very critical problem of class imbalance means most values are 0, fewer are 1 so that our models could get biased toward 0 or that is predicting \"no oil.\""
   ]
  },
  {
   "cell_type": "markdown",
   "id": "eea3a1df",
   "metadata": {},
   "source": [
    "#### ✨ Lets check the imbalance first"
   ]
  },
  {
   "cell_type": "code",
   "execution_count": 10,
   "id": "5ba41d4a",
   "metadata": {},
   "outputs": [
    {
     "data": {
      "text/plain": [
       "Oil_Presence\n",
       "0    3612\n",
       "1    1388\n",
       "Name: count, dtype: int64"
      ]
     },
     "execution_count": 10,
     "metadata": {},
     "output_type": "execute_result"
    }
   ],
   "source": [
    "oil_data['Oil_Presence'].value_counts()"
   ]
  },
  {
   "cell_type": "markdown",
   "id": "9d4725e2",
   "metadata": {},
   "source": [
    "##### 🤔 there is an imbalance of around 3:1"
   ]
  },
  {
   "cell_type": "markdown",
   "id": "4b42cd51",
   "metadata": {},
   "source": [
    "#### To fix imbalance we have several methods :                                                                            class_weight by using (class_weight='balanced'), random oversampling by using RandomOverSampler() as in this dataset imblance is high (3:1) so I am going to use *SMOTE Oversampling*"
   ]
  },
  {
   "cell_type": "markdown",
   "id": "971ca0f4",
   "metadata": {},
   "source": [
    "##### 😎 SMOTE = Synthetic Minority Oversampling Technique, which is a smart way to create fake but realistic examples of the minority class (oil presence) instead of just copying existing ones. From the library 'imbalanced-learn' I will use SMOTE() that will generate new minority samples"
   ]
  },
  {
   "cell_type": "code",
   "execution_count": 11,
   "id": "e73cfbc8",
   "metadata": {},
   "outputs": [],
   "source": [
    "from imblearn.over_sampling import SMOTE\n",
    "from sklearn.model_selection import train_test_split"
   ]
  },
  {
   "cell_type": "code",
   "execution_count": 12,
   "id": "523b8ab4",
   "metadata": {},
   "outputs": [],
   "source": [
    "X = oil_data.drop('Oil_Presence', axis=1)   # features\n",
    "y = oil_data['Oil_Presence']                # target"
   ]
  },
  {
   "cell_type": "code",
   "execution_count": 13,
   "id": "5c7845c5",
   "metadata": {},
   "outputs": [],
   "source": [
    "X_train, X_test, y_train, y_test = train_test_split(\n",
    "    X, y, test_size=0.2, random_state=42, stratify=y\n",
    ")"
   ]
  },
  {
   "cell_type": "markdown",
   "id": "b3ffaf5e",
   "metadata": {},
   "source": [
    "#### 🧐Into this data set we have two columns with string values, Rock_Type and Trap_Type so before doing SMOTE we have to convert those string values into integer. So I will do one hot encoding"
   ]
  },
  {
   "cell_type": "code",
   "execution_count": 16,
   "id": "909512b8",
   "metadata": {},
   "outputs": [
    {
     "data": {
      "text/html": [
       "<div>\n",
       "<style scoped>\n",
       "    .dataframe tbody tr th:only-of-type {\n",
       "        vertical-align: middle;\n",
       "    }\n",
       "\n",
       "    .dataframe tbody tr th {\n",
       "        vertical-align: top;\n",
       "    }\n",
       "\n",
       "    .dataframe thead th {\n",
       "        text-align: right;\n",
       "    }\n",
       "</style>\n",
       "<table border=\"1\" class=\"dataframe\">\n",
       "  <thead>\n",
       "    <tr style=\"text-align: right;\">\n",
       "      <th></th>\n",
       "      <th>Porosity</th>\n",
       "      <th>Permeability</th>\n",
       "      <th>Seismic_Score</th>\n",
       "      <th>Proximity_to_Oil_Field</th>\n",
       "      <th>Estimated_Reservoir_Depth</th>\n",
       "      <th>Oil_Presence</th>\n",
       "      <th>Rock_Type_Sandstone</th>\n",
       "      <th>Rock_Type_Shale</th>\n",
       "      <th>Trap_Type_Dome</th>\n",
       "      <th>Trap_Type_Fault</th>\n",
       "      <th>Trap_Type_Unknown</th>\n",
       "    </tr>\n",
       "  </thead>\n",
       "  <tbody>\n",
       "    <tr>\n",
       "      <th>0</th>\n",
       "      <td>0.438848</td>\n",
       "      <td>903.714252</td>\n",
       "      <td>0.181881</td>\n",
       "      <td>4.226811</td>\n",
       "      <td>1547</td>\n",
       "      <td>0</td>\n",
       "      <td>0</td>\n",
       "      <td>1</td>\n",
       "      <td>0</td>\n",
       "      <td>0</td>\n",
       "      <td>1</td>\n",
       "    </tr>\n",
       "    <tr>\n",
       "      <th>1</th>\n",
       "      <td>6.217269</td>\n",
       "      <td>111.883819</td>\n",
       "      <td>0.169586</td>\n",
       "      <td>0.583624</td>\n",
       "      <td>4878</td>\n",
       "      <td>0</td>\n",
       "      <td>1</td>\n",
       "      <td>0</td>\n",
       "      <td>0</td>\n",
       "      <td>1</td>\n",
       "      <td>0</td>\n",
       "    </tr>\n",
       "    <tr>\n",
       "      <th>2</th>\n",
       "      <td>21.397076</td>\n",
       "      <td>177.944336</td>\n",
       "      <td>0.862800</td>\n",
       "      <td>0.180588</td>\n",
       "      <td>1815</td>\n",
       "      <td>0</td>\n",
       "      <td>0</td>\n",
       "      <td>1</td>\n",
       "      <td>0</td>\n",
       "      <td>0</td>\n",
       "      <td>1</td>\n",
       "    </tr>\n",
       "    <tr>\n",
       "      <th>3</th>\n",
       "      <td>11.598605</td>\n",
       "      <td>429.236160</td>\n",
       "      <td>0.498148</td>\n",
       "      <td>3.042691</td>\n",
       "      <td>1886</td>\n",
       "      <td>0</td>\n",
       "      <td>0</td>\n",
       "      <td>1</td>\n",
       "      <td>1</td>\n",
       "      <td>0</td>\n",
       "      <td>0</td>\n",
       "    </tr>\n",
       "    <tr>\n",
       "      <th>4</th>\n",
       "      <td>19.874518</td>\n",
       "      <td>127.586022</td>\n",
       "      <td>0.245937</td>\n",
       "      <td>1.708715</td>\n",
       "      <td>4420</td>\n",
       "      <td>0</td>\n",
       "      <td>1</td>\n",
       "      <td>0</td>\n",
       "      <td>0</td>\n",
       "      <td>0</td>\n",
       "      <td>0</td>\n",
       "    </tr>\n",
       "  </tbody>\n",
       "</table>\n",
       "</div>"
      ],
      "text/plain": [
       "    Porosity  Permeability  Seismic_Score  Proximity_to_Oil_Field  \\\n",
       "0   0.438848    903.714252       0.181881                4.226811   \n",
       "1   6.217269    111.883819       0.169586                0.583624   \n",
       "2  21.397076    177.944336       0.862800                0.180588   \n",
       "3  11.598605    429.236160       0.498148                3.042691   \n",
       "4  19.874518    127.586022       0.245937                1.708715   \n",
       "\n",
       "   Estimated_Reservoir_Depth  Oil_Presence  Rock_Type_Sandstone  \\\n",
       "0                       1547             0                    0   \n",
       "1                       4878             0                    1   \n",
       "2                       1815             0                    0   \n",
       "3                       1886             0                    0   \n",
       "4                       4420             0                    1   \n",
       "\n",
       "   Rock_Type_Shale  Trap_Type_Dome  Trap_Type_Fault  Trap_Type_Unknown  \n",
       "0                1               0                0                  1  \n",
       "1                0               0                1                  0  \n",
       "2                1               0                0                  1  \n",
       "3                1               1                0                  0  \n",
       "4                0               0                0                  0  "
      ]
     },
     "execution_count": 16,
     "metadata": {},
     "output_type": "execute_result"
    }
   ],
   "source": [
    "oil_data_encoded= pd.get_dummies(oil_data, columns=['Rock_Type','Trap_Type'],dtype=int ,drop_first= True)\n",
    "oil_data_encoded.head(5)"
   ]
  },
  {
   "cell_type": "code",
   "execution_count": 17,
   "id": "64a6df9d",
   "metadata": {},
   "outputs": [],
   "source": [
    "X = oil_data_encoded.drop('Oil_Presence', axis=1)   # features\n",
    "y = oil_data_encoded['Oil_Presence']                # target"
   ]
  },
  {
   "cell_type": "code",
   "execution_count": 18,
   "id": "dd29cda5",
   "metadata": {},
   "outputs": [],
   "source": [
    "X_train, X_test, y_train, y_test = train_test_split(\n",
    "    X, y, test_size=0.2, random_state=42, stratify=y\n",
    ")"
   ]
  },
  {
   "cell_type": "code",
   "execution_count": 23,
   "id": "891c8a05",
   "metadata": {},
   "outputs": [
    {
     "name": "stdout",
     "output_type": "stream",
     "text": [
      "Before SMOTE: Oil_Presence\n",
      "0    2890\n",
      "1    1110\n",
      "Name: count, dtype: int64\n",
      "After SMOTE: Oil_Presence\n",
      "1    2890\n",
      "0    2890\n",
      "Name: count, dtype: int64\n"
     ]
    }
   ],
   "source": [
    "### Apply SMOTE Oversampling\n",
    "smote = SMOTE(random_state=42)\n",
    "X_train_resampled, y_train_resampled = smote.fit_resample(X_train, y_train)\n",
    "### X_train_resampled--- the new balanced features dataset including original + synthetic samples.\n",
    "### y_train_resampled--- the new balanced labels with same length as X_train_balanced.\n",
    "print(\"Before SMOTE:\", y_train.value_counts())\n",
    "print(\"After SMOTE:\", y_train_resampled.value_counts())"
   ]
  },
  {
   "cell_type": "code",
   "execution_count": null,
   "id": "a3b2f96e",
   "metadata": {},
   "outputs": [
    {
     "name": "stdout",
     "output_type": "stream",
     "text": [
      "Random Forest Results:\n",
      "              precision    recall  f1-score   support\n",
      "\n",
      "           0       0.90      0.94      0.92       722\n",
      "           1       0.84      0.74      0.79       278\n",
      "\n",
      "    accuracy                           0.89      1000\n",
      "   macro avg       0.87      0.84      0.86      1000\n",
      "weighted avg       0.89      0.89      0.89      1000\n",
      "\n",
      "ROC-AUC: 0.8428027660973714\n",
      "\n",
      "XGBoost Results:\n",
      "              precision    recall  f1-score   support\n",
      "\n",
      "           0       0.90      0.92      0.91       722\n",
      "           1       0.78      0.75      0.76       278\n",
      "\n",
      "    accuracy                           0.87      1000\n",
      "   macro avg       0.84      0.83      0.84      1000\n",
      "weighted avg       0.87      0.87      0.87      1000\n",
      "\n",
      "ROC-AUC: 0.8339345144383108\n"
     ]
    }
   ],
   "source": [
    "from sklearn.ensemble import RandomForestClassifier\n",
    "from xgboost import XGBClassifier\n",
    "from sklearn.metrics import classification_report, confusion_matrix, roc_auc_score\n",
    "\n",
    "# Random Forest\n",
    "rf = RandomForestClassifier(random_state=42)\n",
    "rf.fit(X_train_resampled, y_train_resampled)\n",
    "y_pred_rf = rf.predict(X_test)\n",
    "print(\"Random Forest Results:\")\n",
    "print(classification_report(y_test, y_pred_rf))\n",
    "print(\"ROC-AUC:\", roc_auc_score(y_test, y_pred_rf))\n",
    "\n",
    "# XGBoost\n",
    "xgb = XGBClassifier(eval_metric='logloss', random_state=42)\n",
    "xgb.fit(X_train_resampled, y_train_resampled)\n",
    "y_pred_xgb = xgb.predict(X_test)\n",
    "print(\"\\nXGBoost Results:\")\n",
    "print(classification_report(y_test, y_pred_xgb))\n",
    "print(\"ROC-AUC:\", roc_auc_score(y_test, y_pred_xgb))"
   ]
  },
  {
   "cell_type": "code",
   "execution_count": null,
   "id": "c9b6894c",
   "metadata": {},
   "outputs": [
    {
     "name": "stdout",
     "output_type": "stream",
     "text": [
      "Predicted classes: [0 0]\n",
      "Predicted probabilities: [0.07 0.1 ]\n"
     ]
    }
   ],
   "source": [
    "new_data = pd.DataFrame([\n",
    "    [0.838848, 903.714252, 0.181881, 4.226811, 1547, 0, 1, 1, 0, 1],\n",
    "    [0.217269, 111.883819, 0.169586, 0.883624, 4878, 1, 1, 0, 1, 0]\n",
    "], columns=['Porosity', 'Permeability', 'Seismic_Score', 'Proximity_to_Oil_Field',\n",
    "            'Estimated_Reservoir_Depth', 'Rock_Type_Sandstone', 'Rock_Type_Shale',\n",
    "            'Trap_Type_Dome', 'Trap_Type_Fault', 'Trap_Type_Unknown'])\n",
    "\n",
    "# Predict class labels class 0(no oil), class 1(oil)\n",
    "pred_class = rf.predict(new_data)\n",
    "print(\"Predicted classes:\", pred_class)\n",
    "# Predict probabilities (useful for ROC-AUC or confidence)\n",
    "pred_proba = rf.predict_proba(new_data)[:, 1]  # probability of class 1\n",
    "print(\"Predicted probabilities:\", pred_proba)"
   ]
  },
  {
   "cell_type": "code",
   "execution_count": 31,
   "id": "1a6ed323",
   "metadata": {},
   "outputs": [
    {
     "name": "stdout",
     "output_type": "stream",
     "text": [
      "[[682  40]\n",
      " [ 72 206]]\n"
     ]
    }
   ],
   "source": [
    "from sklearn.metrics import confusion_matrix\n",
    "# Predict on the test set\n",
    "y_pred_rf = rf.predict(X_test)\n",
    "\n",
    "# Compute confusion matrix\n",
    "cm = confusion_matrix(y_test, y_pred_rf)\n",
    "print(cm)"
   ]
  },
  {
   "cell_type": "code",
   "execution_count": 32,
   "id": "ff610b66",
   "metadata": {},
   "outputs": [
    {
     "data": {
      "image/png": "[encoded data removed]",
      "text/plain": [
       "<Figure size 600x400 with 2 Axes>"
      ]
     },
     "metadata": {},
     "output_type": "display_data"
    }
   ],
   "source": [
    "plt.figure(figsize=(6,4))\n",
    "sns.heatmap(cm, annot=True, fmt=\"d\", cmap=\"Blues\", xticklabels=[0,1], yticklabels=[0,1])\n",
    "plt.xlabel('Predicted')\n",
    "plt.ylabel('Actual')\n",
    "plt.title('Random Forest Confusion Matrix')\n",
    "plt.show()"
   ]
  }
 ],
 "metadata": {
  "kernelspec": {
   "display_name": "myproject",
   "language": "python",
   "name": "python3"
  },
  "language_info": {
   "codemirror_mode": {
    "name": "ipython",
    "version": 3
   },
   "file_extension": ".py",
   "mimetype": "text/x-python",
   "name": "python",
   "nbconvert_exporter": "python",
   "pygments_lexer": "ipython3",
   "version": "3.12.11"
  }
 },
 "nbformat": 4,
 "nbformat_minor": 5
}
